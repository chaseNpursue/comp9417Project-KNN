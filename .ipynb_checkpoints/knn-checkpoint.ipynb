{
 "cells": [
  {
   "cell_type": "code",
   "execution_count": null,
   "metadata": {},
   "outputs": [],
   "source": [
    "# Author: Onur Alp Bicer\n",
    "#         Shengian (sorry i don't know your last name)\n",
    "%matplotlib inline\n",
    "import numpy as np\n",
    "import matplotlib.pyplot as plt\n",
    "import csv\n",
    "\n",
    "# floating point percentage of the data to use as training data, rest will be used as test data\n",
    "split_ratio = 0.8"
   ]
  },
  {
   "cell_type": "code",
   "execution_count": 151,
   "metadata": {},
   "outputs": [],
   "source": [
    "# Attribute mappings for Automobile dataset\n",
    "def getDict(list_attr):\n",
    "    nums = range(len(list_attr))\n",
    "    return dict(zip(list_attr, nums))\n",
    "\n",
    "make = getDict(['alfa-romero', 'audi', 'bmw', 'chevrolet', 'dodge', 'honda', 'isuzu', 'jaguar', 'mazda', \n",
    "        'mercedes-benz', 'mercury', 'mitsubishi', 'nissan', 'peugot', 'plymouth', 'porsche',\n",
    "        'renault', 'saab', 'subaru', 'toyota', 'volkswagen', 'volvo'])\n",
    "\n",
    "fuel_type = getDict(['diesel', 'gas'])\n",
    "aspiration = getDict(['std', 'turbo'])\n",
    "num_doors = getDict(['four', 'two'])\n",
    "\n",
    "body_style = getDict(['hardtop', 'wagon', 'sedan', 'hatchback', 'convertible'])\n",
    "\n",
    "drive_wheels = getDict(['4wd', 'fwd', 'rwd'])\n",
    "\n",
    "engine_location = getDict(['front', 'rear'])\n",
    "engine_type = getDict(['dohc', 'dohcv', 'l', 'ohc', 'ohcf', 'ohcv', 'rotor'])\n",
    "num_cylinders = getDict(['eight', 'five', 'four', 'six', 'three', 'twelve', 'two'])\n",
    "fuel_system = getDict(['1bbl', '2bbl', '4bbl', 'idi', 'mfi', 'mpfi', 'spdi', 'spfi'])"
   ]
  },
  {
   "cell_type": "code",
   "execution_count": null,
   "metadata": {},
   "outputs": [],
   "source": [
    "# Helper function to split data\n",
    "def split_data(data, split_ratio):\n",
    "    np.random.shuffle(data)\n",
    "    \n",
    "    n = int(split_ratio * len(data))\n",
    "    train_data_X = data[:n,:-1]\n",
    "    train_data_Y = data[:n, -1]\n",
    "    test_data_X = data[n:, :-1]\n",
    "    test_data_Y = data[n:, -1]\n",
    "    \n",
    "    return train_data_X, train_data_Y, test_data_X, test_data_Y    "
   ]
  },
  {
   "cell_type": "code",
   "execution_count": 152,
   "metadata": {},
   "outputs": [],
   "source": [
    "# Unpack data from ionosphere data by UCI https://archive.ics.uci.edu/ml/datasets/ionosphere\n",
    "def getIonosphereData(split_ratio):\n",
    "    data = []\n",
    "    with open('ionosphere.data') as file:\n",
    "        csv_reader = csv.reader(file, delimiter=',')\n",
    "        for row in csv_reader:\n",
    "            if row[34] == 'g':\n",
    "                row[34] = 1\n",
    "            elif row[34] == 'b':\n",
    "                row[34] =  0\n",
    "            else:\n",
    "                print(\"Unknown label encountered while parsing dataset\")\n",
    "                exit(1)\n",
    "            data.append(np.asarray(row, dtype=float))\n",
    "\n",
    "    data = np.array(data)\n",
    "    \n",
    "    return split_data(data, split_ratio)\n",
    "    \n",
    "    "
   ]
  },
  {
   "cell_type": "code",
   "execution_count": 162,
   "metadata": {},
   "outputs": [],
   "source": [
    "# Unpack data from automobile data by UCI https://archive.ics.uci.edu/ml/datasets/automobile\n",
    "def getAutomobileData(split_ratio):\n",
    "    data = []\n",
    "    \n",
    "    with open('imports-85.data') as file:\n",
    "        csv_reader = csv.reader(file, delimiter=',')\n",
    "        for row in csv_reader:\n",
    "            row[2] = make[row[2]] \n",
    "            row[3] = fuel_type[row[3]]\n",
    "            row[4] = aspiration[row[4]]\n",
    "            row[5] = num_doors[row[5]]\n",
    "            row[6] = body_style[row[6]]\n",
    "            row[7] = drive_wheels[row[7]]\n",
    "            row[8] = engine_location[row[8]]\n",
    "            row[14] = engine_type[row[14]]\n",
    "            row[15] = num_cylinders[row[15]]\n",
    "            row[17] = fuel_system[row[17]]\n",
    "            for i in range(len(row)):\n",
    "                if row[i] == '?':\n",
    "                    row[i] = -1\n",
    "\n",
    "            data.append(np.asarray(row, dtype=float))\n",
    "    \n",
    "    data = np.array(data)\n",
    "    \n",
    "    \n",
    "getAutomobileData(split_ratio)"
   ]
  },
  {
   "cell_type": "code",
   "execution_count": 30,
   "metadata": {},
   "outputs": [],
   "source": [
    "# https://math.stackexchange.com/questions/139600/how-do-i-calculate-euclidean-and-manhattan-distance-by-hand\n",
    "\n",
    "# This function returns the pairwise manhattan distance of 2 points in n dimensions(formula on the link above)\n",
    "def manhattan_distance(x1, x2):\n",
    "    return np.abs((x1 - x2)).sum()\n",
    "    \n",
    "# This function returns the pairwise euclidian distance of 2 points in n dimensions(formula on the link above)\n",
    "def euclidian_distance(x1, x2):\n",
    "    return np.sqrt(np.square((x1 - x2)).sum())"
   ]
  },
  {
   "cell_type": "code",
   "execution_count": 31,
   "metadata": {},
   "outputs": [
    {
     "name": "stdout",
     "output_type": "stream",
     "text": [
      "Expected Euclidian Distance for (0,0) and (3,4) = 5\n",
      "Actual Euclidian Distance = 5.0\n",
      "\n",
      "Expected Manhattan Distance for (0,0) and (3,4) = 7\n",
      "Actual Manhattan Distance = 7\n"
     ]
    }
   ],
   "source": [
    "# Testing\n",
    "x1 = np.array([0, 0])\n",
    "x2 = np.array([3, 4])\n",
    "print(\"Expected Euclidian Distance for (0,0) and (3,4) = 5\")\n",
    "print(\"Actual Euclidian Distance = \" + str(euclidian_distance(x1, x2)))\n",
    "print(\"\\nExpected Manhattan Distance for (0,0) and (3,4) = 7\")\n",
    "print(\"Actual Manhattan Distance = \" + str(manhattan_distance(x1, x2)))"
   ]
  },
  {
   "cell_type": "code",
   "execution_count": null,
   "metadata": {},
   "outputs": [],
   "source": []
  },
  {
   "cell_type": "code",
   "execution_count": null,
   "metadata": {},
   "outputs": [],
   "source": []
  }
 ],
 "metadata": {
  "kernelspec": {
   "display_name": "Python 3",
   "language": "python",
   "name": "python3"
  },
  "language_info": {
   "codemirror_mode": {
    "name": "ipython",
    "version": 3
   },
   "file_extension": ".py",
   "mimetype": "text/x-python",
   "name": "python",
   "nbconvert_exporter": "python",
   "pygments_lexer": "ipython3",
   "version": "3.6.6"
  }
 },
 "nbformat": 4,
 "nbformat_minor": 2
}
